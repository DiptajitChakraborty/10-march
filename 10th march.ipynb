{
 "cells": [
  {
   "cell_type": "markdown",
   "id": "bc9016b2-4c00-445e-825f-d43c578f538d",
   "metadata": {},
   "source": [
    "Q1: What is Estimation Statistics? Explain point estimate and interval estimate."
   ]
  },
  {
   "cell_type": "markdown",
   "id": "7702dc37-048a-4681-9be6-693ac945e1c4",
   "metadata": {},
   "source": [
    "Ams: It is an observed numerical value used to estimate an unknown population parameter. \n",
    "\n",
    "Point Estimation: A single numerica value used to estimate the unknown population parameter.\n",
    "Interval Estimation: Range pf value that is used to estimate the unknown population parameter."
   ]
  },
  {
   "cell_type": "markdown",
   "id": "3ab18468-c76a-48f0-b1e7-f847fe642a81",
   "metadata": {},
   "source": [
    "Q2. Write a Python function to estimate the population mean using a sample mean and standard\n",
    "deviation."
   ]
  },
  {
   "cell_type": "code",
   "execution_count": 3,
   "id": "323715dd-12bf-463a-b1d4-ad70f9a5b3bd",
   "metadata": {},
   "outputs": [],
   "source": [
    "#Ans:\n",
    "# If the sample mean and standard deviationn are given then we can get the population mean by Z-test.\n",
    "\n",
    "# the function will be\n",
    "\n",
    "def z_test(miu):\n",
    "    x_bar = float(input(\"Enter the sample mean\"))\n",
    "    sigma = float(input(\"Enter the standard deviation\"))\n",
    "    value = (x_bar-miu)/(sigma/sqrt(n))     #n = number of obs, miu = population mean,sigma = standard deviation\n",
    "    return value\n",
    "\n",
    "# AFter getting the value we can get the value by Z- table and then  easily estimate the value by hypothesis testing."
   ]
  },
  {
   "cell_type": "markdown",
   "id": "ba55843f-fdd4-412f-b003-958cabb5a3ef",
   "metadata": {},
   "source": [
    "Q3: What is Hypothesis testing? Why is it used? State the importance of Hypothesis testing."
   ]
  },
  {
   "cell_type": "markdown",
   "id": "8bf25634-2e2c-401c-b64f-b76b24644af2",
   "metadata": {},
   "source": [
    "Ans:\n",
    "     Hypothesis Testing is a type of statistical analysis in which we put our assumptions about a population parameter to the test.\n",
    "     It is used to estimate the relationship between 2 statistical variables.\n",
    "     it allows professionals to test their theories and assumptions before putting them into action. This essentially allows an organization to verify its analysis is correct before committing resources to implement a broader strategy.\n",
    " "
   ]
  },
  {
   "cell_type": "markdown",
   "id": "ef33116c-8488-4a6c-8b71-8aff1bf6b6cc",
   "metadata": {},
   "source": [
    "Q4. Create a hypothesis that states whether the average weight of male college students is greater than the average weight of female college students."
   ]
  },
  {
   "cell_type": "markdown",
   "id": "648d6054-e745-4e42-992c-1c23a9cfa03b",
   "metadata": {},
   "source": [
    "The hypothesis would be : \n",
    "Null hypothesis : Average weight of female college students are same as male college students.\n",
    "Alternative Hypothesis: Average weight of male college students are greater than femal college students."
   ]
  },
  {
   "cell_type": "markdown",
   "id": "17a82e60-e92e-44c8-b491-cef94cd672ac",
   "metadata": {},
   "source": [
    "Q5. Write a Python script to conduct a hypothesis test on the difference between two population means,\n",
    "given a sample from each population."
   ]
  },
  {
   "cell_type": "code",
   "execution_count": 4,
   "id": "3cdb0144-b024-48c1-990a-2cd8a28e4321",
   "metadata": {},
   "outputs": [
    {
     "name": "stdin",
     "output_type": "stream",
     "text": [
      "Enter the population mean 45\n",
      "Enter the sample mean 45\n"
     ]
    },
    {
     "name": "stdout",
     "output_type": "stream",
     "text": [
      "This is a Null hypothesis.\n"
     ]
    }
   ],
   "source": [
    "miu = float(input(\"Enter the population mean\"))\n",
    "x_bar = float(input(\"Enter the sample mean\"))\n",
    "if x_bar == miu :\n",
    "    print(\"This is a Null hypothesis.\")\n",
    "else :\n",
    "    print(\"This is alternative hypothesis.\")"
   ]
  },
  {
   "cell_type": "markdown",
   "id": "a958acbe-d70c-40f2-b88e-5482f7ca7127",
   "metadata": {},
   "source": [
    "Q6: What is a null and alternative hypothesis? Give some examples."
   ]
  },
  {
   "cell_type": "markdown",
   "id": "96d79ba2-404f-4a02-b558-eb0b5725e3e3",
   "metadata": {},
   "source": [
    "Null hypothesis : The hypothesis which is set for plausible rejection is called a null hypothesis.\n",
    "example : Personality of a person. null hypothesis will be the person is not good.\n",
    "Alternative hypothesis: The hypothesis which contradicts the null hypothesis is called alternative hypothesis.\n",
    "example : Personality of a person. alternative hypothesis will be the person is  good."
   ]
  },
  {
   "cell_type": "markdown",
   "id": "dff337db-56f6-47fa-8ca1-a181a19ed33c",
   "metadata": {},
   "source": [
    "Q7: Write down the steps involved in hypothesis testing."
   ]
  },
  {
   "cell_type": "markdown",
   "id": "5e5a8f6f-ba5c-4748-83cb-2d1399450bc7",
   "metadata": {},
   "source": [
    "Ans:1st we will collect the data,\n",
    "then we will male the test estimate and then lastly we will set up a test rule."
   ]
  },
  {
   "cell_type": "markdown",
   "id": "0f48fbef-e5fb-4de8-b844-30a29cb4cef2",
   "metadata": {},
   "source": [
    "Q8. Define p-value and explain its significance in hypothesis testing."
   ]
  },
  {
   "cell_type": "markdown",
   "id": "cad8f2fe-a1c3-4f16-9985-d2f61e1c973f",
   "metadata": {},
   "source": [
    "P-value is how likely we are to have found a particular set of observations if the null hypothesis were true.\n",
    "     P-Values are used in statistical hypothesis testing to determine whether to reject the null hypothesis. The smaller the p-value, the stronger the likelihood that you should reject the null hypothesis.\n"
   ]
  },
  {
   "cell_type": "markdown",
   "id": "53a63c02-bcba-4ca8-ba3b-0bd8d2132aa9",
   "metadata": {},
   "source": [
    "Q9. Generate a Student's t-distribution plot using Python's matplotlib library, with the degrees of freedom parameter set to 10."
   ]
  },
  {
   "cell_type": "code",
   "execution_count": 14,
   "id": "d4331220-b934-4a97-905a-add20a0b6553",
   "metadata": {},
   "outputs": [
    {
     "data": {
      "text/plain": [
       "(array([0.0018669 , 0.00746761, 0.06067436, 0.241764  , 0.37618106,\n",
       "        0.1857569 , 0.05133985, 0.00373381, 0.00373381, 0.00093345]),\n",
       " array([-4.72731745, -3.6560248 , -2.58473215, -1.5134395 , -0.44214685,\n",
       "         0.6291458 ,  1.70043845,  2.77173111,  3.84302376,  4.91431641,\n",
       "         5.98560906]),\n",
       " <BarContainer object of 10 artists>)"
      ]
     },
     "execution_count": 14,
     "metadata": {},
     "output_type": "execute_result"
    },
    {
     "data": {
      "image/png": "[encoded data removed]",
      "text/plain": [
       "<Figure size 640x480 with 1 Axes>"
      ]
     },
     "metadata": {},
     "output_type": "display_data"
    }
   ],
   "source": [
    "from scipy.stats import t\n",
    "import matplotlib.pyplot as plt\n",
    "x = t.rvs(df=10, size=1000)\n",
    "plt.hist(x, density=True,bins=10)"
   ]
  },
  {
   "cell_type": "markdown",
   "id": "690d15ad-5551-4fee-bca9-9968678e3264",
   "metadata": {},
   "source": [
    "Q10. Write a Python program to calculate the two-sample t-test for independent samples, given two\n",
    "random samples of equal size and a null hypothesis that the population means are equal."
   ]
  },
  {
   "cell_type": "code",
   "execution_count": 18,
   "id": "f74a645e-e3ba-419b-9632-d79939100a1b",
   "metadata": {},
   "outputs": [
    {
     "name": "stdout",
     "output_type": "stream",
     "text": [
      "T-statistic: -4.666904755831216\n",
      "P-value: 0.00019187904086791127\n",
      "Reject the null hypothesis\n"
     ]
    }
   ],
   "source": [
    "import numpy as np\n",
    "from scipy import stats\n",
    "study_hour_male = [12, 11, 10, 10, 11, 10, 12, 12, 11, 13]\n",
    " \n",
    "study_hour_female = [14, 13, 15, 12, 13, 13, 14, 12, 13, 15]\n",
    " \n",
    "t_statistic, p_value = stats.ttest_ind(study_hour_male,study_hour_female)\n",
    "print(\"T-statistic:\", t_statistic)\n",
    "print(\"P-value:\", p_value)\n",
    "alpha = 0.05\n",
    "if p_value < alpha:\n",
    "    print(\"Reject the null hypothesis\")\n",
    "else:\n",
    "    print(\"Fail to reject the null hypothesis\")"
   ]
  },
  {
   "cell_type": "markdown",
   "id": "2922d5cf-f3a9-4504-9699-b68e0cefcbb3",
   "metadata": {},
   "source": [
    "Q11: What is Student’s t distribution? When to use the t-Distribution."
   ]
  },
  {
   "cell_type": "markdown",
   "id": "13c106d8-649f-4d6e-8126-0e0701d0e3d5",
   "metadata": {},
   "source": [
    "Ans:The t-distribution, also known as the Student’s t-distribution, is a type of probability distribution that is similar to the normal distribution with its bell shape but has heavier tails.\n",
    "    It is used for estimating population parameters for small sample sizes or unknown variances. "
   ]
  },
  {
   "cell_type": "markdown",
   "id": "a0fd3546-3f0a-4275-9f83-27c2d3139150",
   "metadata": {},
   "source": [
    "Q12: What is t-statistic? State the formula for t-statistic."
   ]
  },
  {
   "cell_type": "markdown",
   "id": "d5f02b3c-39be-4921-ad7b-60a76acdcdd7",
   "metadata": {},
   "source": [
    "Ans: the t-statistic is the ratio of the departure of the estimated value of a parameter from its hypothesized value to its standard error.\n",
    "\n",
    "The formula of t statistic is (xbar-miu)/(s/sqrt(n)) where xbar = sample mean, miu = population mean, s  = standard deviation of the sample, n = nmber of observations."
   ]
  },
  {
   "cell_type": "markdown",
   "id": "3c306e6b-25dd-4cad-99a2-1e60935501ed",
   "metadata": {},
   "source": [
    "Q13. A coffee shop owner wants to estimate the average daily revenue for their shop. They take a random\n",
    "sample of 50 days and find the sample mean revenue to be $500 with a standard deviation of $50.\n",
    "Estimate the population mean revenue with a 95% confidence interval."
   ]
  },
  {
   "cell_type": "code",
   "execution_count": 9,
   "id": "9cbf40fb-29e6-4ccb-b5d5-12ffa9c1864e",
   "metadata": {},
   "outputs": [
    {
     "name": "stdout",
     "output_type": "stream",
     "text": [
      "The population mean is  69.71860000000001\n"
     ]
    }
   ],
   "source": [
    "import math\n",
    "# First of all we need to find the t value from the confidence interval.\n",
    "# Here confidence interval is 95%. i.e. lets take\n",
    "c = 0.95\n",
    "#Now take the significance level \n",
    "alpha  = 1-c\n",
    "#Here the number of sample is\n",
    "n = 50 \n",
    "#The degree of freedom equals n - 1\n",
    "#i.e. \n",
    "n_prime = n-1\n",
    "#Using t-table we can get the value for 95% interval is \n",
    "t_value= 2.010\n",
    "#Now we know that sample mean\n",
    "x_bar = 500\n",
    "standard_deviation = 50\n",
    "population_mean = ((x_bar-t_value)*math.sqrt(n_prime))/standard_deviation\n",
    "print(\"The population mean is \",population_mean)"
   ]
  },
  {
   "cell_type": "markdown",
   "id": "b41c9efd-1cd1-4ccc-bd0b-f1abc8fafdb1",
   "metadata": {},
   "source": [
    "Q14. A researcher hypothesizes that a new drug will decrease blood pressure by 10 mmHg. They conduct a\n",
    "clinical trial with 100 patients and find that the sample mean decrease in blood pressure is 8 mmHg with a\n",
    "standard deviation of 3 mmHg. Test the hypothesis with a significance level of 0.05."
   ]
  },
  {
   "cell_type": "code",
   "execution_count": 16,
   "id": "e005ef48-c122-499a-9a21-54fe59f5c275",
   "metadata": {},
   "outputs": [
    {
     "name": "stdout",
     "output_type": "stream",
     "text": [
      "The value of z test is  -6.666666666666667\n"
     ]
    }
   ],
   "source": [
    "#Here we will use null hypothesis as miu = 10 and the alternative hypothesis as miu < 10.\n",
    "#Here the population mean is \n",
    "pop_mean = 10\n",
    "#And the sample mean is \n",
    "samp_mean = 8\n",
    "#Here the number of sample is greater than 30 so we will use z_test.\n",
    "n = 100\n",
    "standard_deviation = 3\n",
    "#Here the Z-test value is \n",
    "Z_test = (samp_mean - pop_mean)/(standard_deviation/math.sqrt(n))\n",
    "print(\"The value of z test is \",Z_test)"
   ]
  },
  {
   "cell_type": "markdown",
   "id": "82850d2a-dd01-4565-8106-11122e8c4542",
   "metadata": {},
   "source": [
    "Here the significance value is alpha = 0.05\n",
    "i.e. 1 - 0.5/2 = 1 - 0.025 = 0.9750\n",
    "The value is 1.96\n",
    "i.e. here the value will be \n",
    "here Z_test value is lesser than -1.96\n",
    "i.e. We will reject the null hypothesis.\n",
    "i.e. The alternative hypothesis i.e. the mean decrease in blood pressure is 8mmHg.\n"
   ]
  },
  {
   "cell_type": "markdown",
   "id": "681434cd-d86d-4a13-8c42-73dd76a17b1c",
   "metadata": {},
   "source": [
    "Q15. An electronics company produces a certain type of product with a mean weight of 5 pounds and a\n",
    "standard deviation of 0.5 pounds. A random sample of 25 products is taken, and the sample mean weight\n",
    "is found to be 4.8 pounds. Test the hypothesis that the true mean weight of the products is less than 5\n",
    "pounds with a significance level of 0.01."
   ]
  },
  {
   "cell_type": "code",
   "execution_count": 2,
   "id": "3e844421-226d-4126-bf35-14a0b7ff0591",
   "metadata": {},
   "outputs": [],
   "source": [
    "import math\n",
    "samp_mean1 = 4.8\n",
    "pop_mean1 = 5\n",
    "std = 0.5\n",
    "n = 30\n",
    "significance_value = 0.01\n",
    "#null hypothesis : true mean weight of the product is less than 5 pounds.\n",
    "dof = n-1 #degree of freedom\n",
    "t_test_statistics = (samp_mean1-pop_mean1)/(std/math.sqrt(n))\n",
    "#Decision boundary =2.462\n",
    "#If t_test is less than -2.462 and greater than 2.462 we will reject the null hypothesis.\n",
    "#here t_test is "
   ]
  },
  {
   "cell_type": "markdown",
   "id": "73d6f09e-93c1-4618-8684-5eb6531aa58b",
   "metadata": {},
   "source": [
    "Q16. Two groups of students are given different study materials to prepare for a test. The first group (n1 =\n",
    "30) has a mean score of 80 with a standard deviation of 10, and the second group (n2 = 40) has a mean\n",
    "score of 75 with a standard deviation of 8. Test the hypothesis that the population means for the two\n",
    "groups are equal with a significance level of 0.01."
   ]
  },
  {
   "cell_type": "code",
   "execution_count": 9,
   "id": "23d08bb3-3f78-4303-8bd4-c45f6bda3f3b",
   "metadata": {},
   "outputs": [],
   "source": [
    "n1 = 30\n",
    "x1_bar = 80\n",
    "std1 = 10\n",
    "n2 = 40\n",
    "x2_bar = 75\n",
    "std2 = 8\n",
    "#t-alpha/2 = 2.58\n",
    "#for 1st group\n",
    "#upper c.i.\n",
    "upper_ci1 = x1_bar + 2.58*std1/math.sqrt(n1)\n",
    "#lowerci\n",
    "lower_ci1 = x1_bar - 2.58*std1/math.sqrt(n1)\n",
    "#for 2nd group\n",
    "#upper c.i.\n",
    "upper_ci2 = x2_bar + 2.58*std2/math.sqrt(n2)\n",
    "#lower c.i.\n",
    "lower_ci2 = x2_bar - 2.58*std2/math.sqrt(n2)\n",
    "#Null hypothesis : population means are equal\n",
    "#Alternative hypothesis : Population means are not same\n"
   ]
  },
  {
   "cell_type": "code",
   "execution_count": 12,
   "id": "06a001c4-ac19-49fd-b56d-976b315c1191",
   "metadata": {},
   "outputs": [
    {
     "data": {
      "text/plain": [
       "84.71041399454442"
      ]
     },
     "execution_count": 12,
     "metadata": {},
     "output_type": "execute_result"
    }
   ],
   "source": [
    "upper_ci1"
   ]
  },
  {
   "cell_type": "code",
   "execution_count": 13,
   "id": "e981cda9-86ca-405f-aa76-34eac58b810e",
   "metadata": {},
   "outputs": [
    {
     "data": {
      "text/plain": [
       "78.26347054529377"
      ]
     },
     "execution_count": 13,
     "metadata": {},
     "output_type": "execute_result"
    }
   ],
   "source": [
    "upper_ci2"
   ]
  },
  {
   "cell_type": "code",
   "execution_count": 14,
   "id": "0e279bbe-cb64-4c3b-ace7-5ee9df1c9d58",
   "metadata": {},
   "outputs": [
    {
     "data": {
      "text/plain": [
       "75.28958600545558"
      ]
     },
     "execution_count": 14,
     "metadata": {},
     "output_type": "execute_result"
    }
   ],
   "source": [
    "lower_ci1"
   ]
  },
  {
   "cell_type": "code",
   "execution_count": 15,
   "id": "8bba3283-f05a-40aa-8a71-3cc20210c024",
   "metadata": {},
   "outputs": [
    {
     "data": {
      "text/plain": [
       "71.73652945470623"
      ]
     },
     "execution_count": 15,
     "metadata": {},
     "output_type": "execute_result"
    }
   ],
   "source": [
    "lower_ci2"
   ]
  },
  {
   "cell_type": "code",
   "execution_count": 17,
   "id": "e01f0ade-5c52-41b9-80d6-5242541db428",
   "metadata": {},
   "outputs": [],
   "source": [
    "#Here we can see that they are approximately same so  null hypothesis  is  accurate here."
   ]
  },
  {
   "cell_type": "markdown",
   "id": "c01e31da-a912-40af-893d-a4973a5b5974",
   "metadata": {},
   "source": [
    "Q17. A marketing company wants to estimate the average number of ads watched by viewers during a TV\n",
    "program. They take a random sample of 50 viewers and find that the sample mean is 4 with a standard\n",
    "deviation of 1.5. Estimate the population mean with a 99% confidence interval."
   ]
  },
  {
   "cell_type": "code",
   "execution_count": 18,
   "id": "77bc5ed6-55ff-4e81-951b-824291f1fcaa",
   "metadata": {},
   "outputs": [
    {
     "name": "stdout",
     "output_type": "stream",
     "text": [
      "The population mean is  6.159999999999999\n"
     ]
    }
   ],
   "source": [
    "\n",
    "c = 0.99\n",
    "alpha  = 1-c\n",
    "#Here the number of sample is\n",
    "n = 50 \n",
    "#The degree of freedom equals n - 1\n",
    "#i.e. \n",
    "n_prime = n-1\n",
    "#Using t-table we can get the value for 95% interval is \n",
    "t_value= 2.680\n",
    "#Now we know that sample mean\n",
    "x_bar = 4\n",
    "standard_deviation = 1.5\n",
    "population_mean = ((x_bar-t_value)*math.sqrt(n_prime))/standard_deviation\n",
    "print(\"The population mean is \",population_mean)"
   ]
  },
  {
   "cell_type": "code",
   "execution_count": null,
   "id": "6f15666d-ee20-41d3-ac4a-a73e2c39f69f",
   "metadata": {},
   "outputs": [],
   "source": []
  },
  {
   "cell_type": "code",
   "execution_count": null,
   "id": "ab317d21-c68b-4bc7-9ada-50b1b66a13bb",
   "metadata": {},
   "outputs": [],
   "source": []
  },
  {
   "cell_type": "code",
   "execution_count": null,
   "id": "5922fe51-79fb-4f89-9108-c47d0c7c2e54",
   "metadata": {},
   "outputs": [],
   "source": []
  },
  {
   "cell_type": "code",
   "execution_count": null,
   "id": "a87695c4-b274-4283-a2cf-7d4043babd4b",
   "metadata": {},
   "outputs": [],
   "source": []
  },
  {
   "cell_type": "code",
   "execution_count": null,
   "id": "343f2c37-1e59-4527-9802-9268195b358e",
   "metadata": {},
   "outputs": [],
   "source": []
  },
  {
   "cell_type": "code",
   "execution_count": null,
   "id": "34173549-421e-425f-94ea-b74c2cd93d61",
   "metadata": {},
   "outputs": [],
   "source": []
  },
  {
   "cell_type": "code",
   "execution_count": null,
   "id": "0a91e9fb-d8e2-459d-be69-4e4a216f364f",
   "metadata": {},
   "outputs": [],
   "source": []
  }
 ],
 "metadata": {
  "kernelspec": {
   "display_name": "Python 3 (ipykernel)",
   "language": "python",
   "name": "python3"
  },
  "language_info": {
   "codemirror_mode": {
    "name": "ipython",
    "version": 3
   },
   "file_extension": ".py",
   "mimetype": "text/x-python",
   "name": "python",
   "nbconvert_exporter": "python",
   "pygments_lexer": "ipython3",
   "version": "3.10.8"
  }
 },
 "nbformat": 4,
 "nbformat_minor": 5
}
